{
  "cells": [
    {
      "cell_type": "markdown",
      "metadata": {
        "id": "view-in-github",
        "colab_type": "text"
      },
      "source": [
        "<a href=\"https://colab.research.google.com/github/luifer991/machine_learning_and_projects/blob/main/predict_health_costs_with_regression.ipynb\" target=\"_parent\"><img src=\"https://colab.research.google.com/assets/colab-badge.svg\" alt=\"Open In Colab\"/></a>"
      ]
    },
    {
      "cell_type": "code",
      "execution_count": null,
      "metadata": {
        "id": "1rRo8oNqZ-Rj",
        "colab": {
          "base_uri": "https://localhost:8080/"
        },
        "outputId": "99f8d9ce-e715-46d3-8a03-ec427d00add2"
      },
      "outputs": [
        {
          "output_type": "stream",
          "name": "stdout",
          "text": [
            "  Preparing metadata (setup.py) ... \u001b[?25l\u001b[?25hdone\n",
            "Colab only includes TensorFlow 2.x; %tensorflow_version has no effect.\n"
          ]
        }
      ],
      "source": [
        "# Import libraries. You may or may not use all of these.\n",
        "!pip install -q git+https://github.com/tensorflow/docs\n",
        "import matplotlib.pyplot as plt\n",
        "import numpy as np\n",
        "import pandas as pd\n",
        "\n",
        "try:\n",
        "  # %tensorflow_version only exists in Colab.\n",
        "  %tensorflow_version 2.x\n",
        "except Exception:\n",
        "  pass\n",
        "import tensorflow as tf\n",
        "\n",
        "from tensorflow import keras\n",
        "from tensorflow.keras import layers\n",
        "\n",
        "import tensorflow_docs as tfdocs\n",
        "import tensorflow_docs.plots\n",
        "import tensorflow_docs.modeling"
      ]
    },
    {
      "cell_type": "code",
      "execution_count": null,
      "metadata": {
        "id": "CiX2FI4gZtTt",
        "colab": {
          "base_uri": "https://localhost:8080/",
          "height": 397
        },
        "outputId": "f81c791b-8c61-4cab-9872-17b8f307d928"
      },
      "outputs": [
        {
          "output_type": "stream",
          "name": "stdout",
          "text": [
            "--2023-01-31 17:20:26--  https://cdn.freecodecamp.org/project-data/health-costs/insurance.csv\n",
            "Resolving cdn.freecodecamp.org (cdn.freecodecamp.org)... 172.67.70.149, 104.26.2.33, 104.26.3.33, ...\n",
            "Connecting to cdn.freecodecamp.org (cdn.freecodecamp.org)|172.67.70.149|:443... connected.\n",
            "HTTP request sent, awaiting response... 200 OK\n",
            "Length: 50264 (49K) [text/csv]\n",
            "Saving to: ‘insurance.csv.1’\n",
            "\n",
            "insurance.csv.1     100%[===================>]  49.09K  --.-KB/s    in 0.01s   \n",
            "\n",
            "2023-01-31 17:20:27 (4.44 MB/s) - ‘insurance.csv.1’ saved [50264/50264]\n",
            "\n"
          ]
        },
        {
          "output_type": "execute_result",
          "data": {
            "text/plain": [
              "      age     sex   bmi  children smoker     region  expenses\n",
              "1333   50    male  31.0         3     no  northwest  10600.55\n",
              "1334   18  female  31.9         0     no  northeast   2205.98\n",
              "1335   18  female  36.9         0     no  southeast   1629.83\n",
              "1336   21  female  25.8         0     no  southwest   2007.95\n",
              "1337   61  female  29.1         0    yes  northwest  29141.36"
            ],
            "text/html": [
              "\n",
              "  <div id=\"df-3d1723ed-39d4-4674-bbad-ab82ac368cf8\">\n",
              "    <div class=\"colab-df-container\">\n",
              "      <div>\n",
              "<style scoped>\n",
              "    .dataframe tbody tr th:only-of-type {\n",
              "        vertical-align: middle;\n",
              "    }\n",
              "\n",
              "    .dataframe tbody tr th {\n",
              "        vertical-align: top;\n",
              "    }\n",
              "\n",
              "    .dataframe thead th {\n",
              "        text-align: right;\n",
              "    }\n",
              "</style>\n",
              "<table border=\"1\" class=\"dataframe\">\n",
              "  <thead>\n",
              "    <tr style=\"text-align: right;\">\n",
              "      <th></th>\n",
              "      <th>age</th>\n",
              "      <th>sex</th>\n",
              "      <th>bmi</th>\n",
              "      <th>children</th>\n",
              "      <th>smoker</th>\n",
              "      <th>region</th>\n",
              "      <th>expenses</th>\n",
              "    </tr>\n",
              "  </thead>\n",
              "  <tbody>\n",
              "    <tr>\n",
              "      <th>1333</th>\n",
              "      <td>50</td>\n",
              "      <td>male</td>\n",
              "      <td>31.0</td>\n",
              "      <td>3</td>\n",
              "      <td>no</td>\n",
              "      <td>northwest</td>\n",
              "      <td>10600.55</td>\n",
              "    </tr>\n",
              "    <tr>\n",
              "      <th>1334</th>\n",
              "      <td>18</td>\n",
              "      <td>female</td>\n",
              "      <td>31.9</td>\n",
              "      <td>0</td>\n",
              "      <td>no</td>\n",
              "      <td>northeast</td>\n",
              "      <td>2205.98</td>\n",
              "    </tr>\n",
              "    <tr>\n",
              "      <th>1335</th>\n",
              "      <td>18</td>\n",
              "      <td>female</td>\n",
              "      <td>36.9</td>\n",
              "      <td>0</td>\n",
              "      <td>no</td>\n",
              "      <td>southeast</td>\n",
              "      <td>1629.83</td>\n",
              "    </tr>\n",
              "    <tr>\n",
              "      <th>1336</th>\n",
              "      <td>21</td>\n",
              "      <td>female</td>\n",
              "      <td>25.8</td>\n",
              "      <td>0</td>\n",
              "      <td>no</td>\n",
              "      <td>southwest</td>\n",
              "      <td>2007.95</td>\n",
              "    </tr>\n",
              "    <tr>\n",
              "      <th>1337</th>\n",
              "      <td>61</td>\n",
              "      <td>female</td>\n",
              "      <td>29.1</td>\n",
              "      <td>0</td>\n",
              "      <td>yes</td>\n",
              "      <td>northwest</td>\n",
              "      <td>29141.36</td>\n",
              "    </tr>\n",
              "  </tbody>\n",
              "</table>\n",
              "</div>\n",
              "      <button class=\"colab-df-convert\" onclick=\"convertToInteractive('df-3d1723ed-39d4-4674-bbad-ab82ac368cf8')\"\n",
              "              title=\"Convert this dataframe to an interactive table.\"\n",
              "              style=\"display:none;\">\n",
              "        \n",
              "  <svg xmlns=\"http://www.w3.org/2000/svg\" height=\"24px\"viewBox=\"0 0 24 24\"\n",
              "       width=\"24px\">\n",
              "    <path d=\"M0 0h24v24H0V0z\" fill=\"none\"/>\n",
              "    <path d=\"M18.56 5.44l.94 2.06.94-2.06 2.06-.94-2.06-.94-.94-2.06-.94 2.06-2.06.94zm-11 1L8.5 8.5l.94-2.06 2.06-.94-2.06-.94L8.5 2.5l-.94 2.06-2.06.94zm10 10l.94 2.06.94-2.06 2.06-.94-2.06-.94-.94-2.06-.94 2.06-2.06.94z\"/><path d=\"M17.41 7.96l-1.37-1.37c-.4-.4-.92-.59-1.43-.59-.52 0-1.04.2-1.43.59L10.3 9.45l-7.72 7.72c-.78.78-.78 2.05 0 2.83L4 21.41c.39.39.9.59 1.41.59.51 0 1.02-.2 1.41-.59l7.78-7.78 2.81-2.81c.8-.78.8-2.07 0-2.86zM5.41 20L4 18.59l7.72-7.72 1.47 1.35L5.41 20z\"/>\n",
              "  </svg>\n",
              "      </button>\n",
              "      \n",
              "  <style>\n",
              "    .colab-df-container {\n",
              "      display:flex;\n",
              "      flex-wrap:wrap;\n",
              "      gap: 12px;\n",
              "    }\n",
              "\n",
              "    .colab-df-convert {\n",
              "      background-color: #E8F0FE;\n",
              "      border: none;\n",
              "      border-radius: 50%;\n",
              "      cursor: pointer;\n",
              "      display: none;\n",
              "      fill: #1967D2;\n",
              "      height: 32px;\n",
              "      padding: 0 0 0 0;\n",
              "      width: 32px;\n",
              "    }\n",
              "\n",
              "    .colab-df-convert:hover {\n",
              "      background-color: #E2EBFA;\n",
              "      box-shadow: 0px 1px 2px rgba(60, 64, 67, 0.3), 0px 1px 3px 1px rgba(60, 64, 67, 0.15);\n",
              "      fill: #174EA6;\n",
              "    }\n",
              "\n",
              "    [theme=dark] .colab-df-convert {\n",
              "      background-color: #3B4455;\n",
              "      fill: #D2E3FC;\n",
              "    }\n",
              "\n",
              "    [theme=dark] .colab-df-convert:hover {\n",
              "      background-color: #434B5C;\n",
              "      box-shadow: 0px 1px 3px 1px rgba(0, 0, 0, 0.15);\n",
              "      filter: drop-shadow(0px 1px 2px rgba(0, 0, 0, 0.3));\n",
              "      fill: #FFFFFF;\n",
              "    }\n",
              "  </style>\n",
              "\n",
              "      <script>\n",
              "        const buttonEl =\n",
              "          document.querySelector('#df-3d1723ed-39d4-4674-bbad-ab82ac368cf8 button.colab-df-convert');\n",
              "        buttonEl.style.display =\n",
              "          google.colab.kernel.accessAllowed ? 'block' : 'none';\n",
              "\n",
              "        async function convertToInteractive(key) {\n",
              "          const element = document.querySelector('#df-3d1723ed-39d4-4674-bbad-ab82ac368cf8');\n",
              "          const dataTable =\n",
              "            await google.colab.kernel.invokeFunction('convertToInteractive',\n",
              "                                                     [key], {});\n",
              "          if (!dataTable) return;\n",
              "\n",
              "          const docLinkHtml = 'Like what you see? Visit the ' +\n",
              "            '<a target=\"_blank\" href=https://colab.research.google.com/notebooks/data_table.ipynb>data table notebook</a>'\n",
              "            + ' to learn more about interactive tables.';\n",
              "          element.innerHTML = '';\n",
              "          dataTable['output_type'] = 'display_data';\n",
              "          await google.colab.output.renderOutput(dataTable, element);\n",
              "          const docLink = document.createElement('div');\n",
              "          docLink.innerHTML = docLinkHtml;\n",
              "          element.appendChild(docLink);\n",
              "        }\n",
              "      </script>\n",
              "    </div>\n",
              "  </div>\n",
              "  "
            ]
          },
          "metadata": {},
          "execution_count": 11
        }
      ],
      "source": [
        "# Import data\n",
        "!wget https://cdn.freecodecamp.org/project-data/health-costs/insurance.csv\n",
        "dataset = pd.read_csv('insurance.csv')\n",
        "dataset.tail()"
      ]
    },
    {
      "cell_type": "code",
      "execution_count": null,
      "metadata": {
        "id": "LcopvQh3X-kX"
      },
      "outputs": [],
      "source": [
        "# Convert categorical columns into numeric\n",
        "CATEGORICAL_COLUMNS = ['sex', 'smoker', 'region']\n",
        "\n",
        "for column in CATEGORICAL_COLUMNS:\n",
        "  dataset[column] = dataset[column].astype('category').cat.codes"
      ]
    },
    {
      "cell_type": "code",
      "source": [
        "from google.colab import drive\n",
        "drive.mount('/content/drive')"
      ],
      "metadata": {
        "id": "ZM64CaRXqiAR",
        "colab": {
          "base_uri": "https://localhost:8080/"
        },
        "outputId": "1ec8aa65-3ea2-45a3-fbb1-21e01ad36287"
      },
      "execution_count": null,
      "outputs": [
        {
          "output_type": "stream",
          "name": "stdout",
          "text": [
            "Drive already mounted at /content/drive; to attempt to forcibly remount, call drive.mount(\"/content/drive\", force_remount=True).\n"
          ]
        }
      ]
    },
    {
      "cell_type": "code",
      "source": [
        "train_dataset, test_dataset = np.split(dataset, [int(.8 * len(dataset))])\n",
        "train_labels, test_labels = train_dataset.pop('expenses'), test_dataset.pop('expenses')"
      ],
      "metadata": {
        "id": "rsLI4LlhRkQk"
      },
      "execution_count": null,
      "outputs": []
    },
    {
      "cell_type": "code",
      "source": [
        "normalizer = layers.experimental.preprocessing.Normalization(axis=-1)\n",
        "normalizer.adapt(np.array(train_dataset))"
      ],
      "metadata": {
        "id": "FXNKFFLahA00"
      },
      "execution_count": null,
      "outputs": []
    },
    {
      "cell_type": "code",
      "source": [
        "# Create model\n",
        "model = keras.Sequential([\n",
        "                          normalizer,\n",
        "                          layers.Dense(2),\n",
        "                          layers.Dense(1)\n",
        "])\n",
        "\n",
        "model.compile(optimizer=keras.optimizers.Adam(learning_rate=0.1),\n",
        "              loss='mae',\n",
        "              metrics=['mae', 'mse'])\n",
        "\n",
        "model.summary()"
      ],
      "metadata": {
        "id": "CaapR0aggazp",
        "colab": {
          "base_uri": "https://localhost:8080/"
        },
        "outputId": "5d47ce6b-dae6-4b94-8176-b193916fea47"
      },
      "execution_count": null,
      "outputs": [
        {
          "output_type": "stream",
          "name": "stdout",
          "text": [
            "Model: \"sequential_1\"\n",
            "_________________________________________________________________\n",
            " Layer (type)                Output Shape              Param #   \n",
            "=================================================================\n",
            " normalization_1 (Normalizat  (None, 6)                13        \n",
            " ion)                                                            \n",
            "                                                                 \n",
            " dense_2 (Dense)             (None, 2)                 14        \n",
            "                                                                 \n",
            " dense_3 (Dense)             (None, 1)                 3         \n",
            "                                                                 \n",
            "=================================================================\n",
            "Total params: 30\n",
            "Trainable params: 17\n",
            "Non-trainable params: 13\n",
            "_________________________________________________________________\n"
          ]
        }
      ]
    },
    {
      "cell_type": "code",
      "source": [
        "# Train model\n",
        "model.fit(train_dataset, train_labels, epochs=100, validation_split=0.2)"
      ],
      "metadata": {
        "id": "Qcu13stHgao4",
        "colab": {
          "base_uri": "https://localhost:8080/"
        },
        "outputId": "1045347c-78d7-4576-de9c-08488509bbaf"
      },
      "execution_count": null,
      "outputs": [
        {
          "output_type": "stream",
          "name": "stdout",
          "text": [
            "Epoch 1/100\n",
            "27/27 [==============================] - 1s 11ms/step - loss: 13193.3633 - mae: 13193.3633 - mse: 320420480.0000 - val_loss: 13241.6211 - val_mae: 13241.6211 - val_mse: 313668416.0000\n",
            "Epoch 2/100\n",
            "27/27 [==============================] - 0s 4ms/step - loss: 13147.3984 - mae: 13147.3984 - mse: 319280160.0000 - val_loss: 13169.1084 - val_mae: 13169.1084 - val_mse: 311796736.0000\n",
            "Epoch 3/100\n",
            "27/27 [==============================] - 0s 3ms/step - loss: 13038.1895 - mae: 13038.1895 - mse: 316468128.0000 - val_loss: 13026.4287 - val_mae: 13026.4287 - val_mse: 308299680.0000\n",
            "Epoch 4/100\n",
            "27/27 [==============================] - 0s 2ms/step - loss: 12852.1436 - mae: 12852.1436 - mse: 311789024.0000 - val_loss: 12807.0811 - val_mae: 12807.0811 - val_mse: 302542336.0000\n",
            "Epoch 5/100\n",
            "27/27 [==============================] - 0s 3ms/step - loss: 12584.2568 - mae: 12584.2568 - mse: 305143680.0000 - val_loss: 12507.4385 - val_mae: 12507.4385 - val_mse: 295268768.0000\n",
            "Epoch 6/100\n",
            "27/27 [==============================] - 0s 2ms/step - loss: 12235.4502 - mae: 12235.4502 - mse: 296537952.0000 - val_loss: 12135.3594 - val_mae: 12135.3594 - val_mse: 285908864.0000\n",
            "Epoch 7/100\n",
            "27/27 [==============================] - 0s 3ms/step - loss: 11807.1025 - mae: 11807.1025 - mse: 286058560.0000 - val_loss: 11693.0791 - val_mae: 11693.0791 - val_mse: 275072896.0000\n",
            "Epoch 8/100\n",
            "27/27 [==============================] - 0s 3ms/step - loss: 11324.4307 - mae: 11324.4307 - mse: 273089248.0000 - val_loss: 11184.1562 - val_mae: 11184.1562 - val_mse: 260699936.0000\n",
            "Epoch 9/100\n",
            "27/27 [==============================] - 0s 4ms/step - loss: 10773.7783 - mae: 10773.7783 - mse: 258192400.0000 - val_loss: 10591.0498 - val_mae: 10591.0498 - val_mse: 245025328.0000\n",
            "Epoch 10/100\n",
            "27/27 [==============================] - 0s 5ms/step - loss: 10142.6133 - mae: 10142.6133 - mse: 241580384.0000 - val_loss: 9903.1963 - val_mae: 9903.1973 - val_mse: 227530272.0000\n",
            "Epoch 11/100\n",
            "27/27 [==============================] - 0s 4ms/step - loss: 9417.9990 - mae: 9417.9990 - mse: 223258896.0000 - val_loss: 9129.2275 - val_mae: 9129.2275 - val_mse: 208188944.0000\n",
            "Epoch 12/100\n",
            "27/27 [==============================] - 0s 4ms/step - loss: 8618.2744 - mae: 8618.2744 - mse: 204478880.0000 - val_loss: 8269.8691 - val_mae: 8269.8691 - val_mse: 189641808.0000\n",
            "Epoch 13/100\n",
            "27/27 [==============================] - 0s 3ms/step - loss: 7742.9575 - mae: 7742.9575 - mse: 185645936.0000 - val_loss: 7398.2715 - val_mae: 7398.2715 - val_mse: 169581056.0000\n",
            "Epoch 14/100\n",
            "27/27 [==============================] - 0s 2ms/step - loss: 6871.9961 - mae: 6871.9961 - mse: 165490672.0000 - val_loss: 6534.9468 - val_mae: 6534.9468 - val_mse: 149698256.0000\n",
            "Epoch 15/100\n",
            "27/27 [==============================] - 0s 3ms/step - loss: 6070.0806 - mae: 6070.0806 - mse: 145241760.0000 - val_loss: 5891.6968 - val_mae: 5891.6968 - val_mse: 130840264.0000\n",
            "Epoch 16/100\n",
            "27/27 [==============================] - 0s 3ms/step - loss: 5512.5410 - mae: 5512.5410 - mse: 126096472.0000 - val_loss: 5421.5332 - val_mae: 5421.5332 - val_mse: 112913936.0000\n",
            "Epoch 17/100\n",
            "27/27 [==============================] - 0s 3ms/step - loss: 5070.8335 - mae: 5070.8335 - mse: 108843832.0000 - val_loss: 4972.0674 - val_mae: 4972.0674 - val_mse: 97939424.0000\n",
            "Epoch 18/100\n",
            "27/27 [==============================] - 0s 3ms/step - loss: 4647.4282 - mae: 4647.4282 - mse: 94069400.0000 - val_loss: 4522.3818 - val_mae: 4522.3818 - val_mse: 84706616.0000\n",
            "Epoch 19/100\n",
            "27/27 [==============================] - 0s 2ms/step - loss: 4244.1289 - mae: 4244.1289 - mse: 81244264.0000 - val_loss: 4120.6167 - val_mae: 4120.6167 - val_mse: 73845120.0000\n",
            "Epoch 20/100\n",
            "27/27 [==============================] - 0s 2ms/step - loss: 3901.7649 - mae: 3901.7649 - mse: 70399640.0000 - val_loss: 3898.0742 - val_mae: 3898.0742 - val_mse: 66251148.0000\n",
            "Epoch 21/100\n",
            "27/27 [==============================] - 0s 3ms/step - loss: 3718.8752 - mae: 3718.8752 - mse: 63400764.0000 - val_loss: 3807.2554 - val_mae: 3807.2554 - val_mse: 61510972.0000\n",
            "Epoch 22/100\n",
            "27/27 [==============================] - 0s 2ms/step - loss: 3645.4998 - mae: 3645.4998 - mse: 59086388.0000 - val_loss: 3773.5076 - val_mae: 3773.5076 - val_mse: 58564964.0000\n",
            "Epoch 23/100\n",
            "27/27 [==============================] - 0s 2ms/step - loss: 3610.1113 - mae: 3610.1113 - mse: 56123012.0000 - val_loss: 3762.7219 - val_mae: 3762.7219 - val_mse: 56471700.0000\n",
            "Epoch 24/100\n",
            "27/27 [==============================] - 0s 3ms/step - loss: 3593.6536 - mae: 3593.6536 - mse: 54657560.0000 - val_loss: 3772.0935 - val_mae: 3772.0935 - val_mse: 55796640.0000\n",
            "Epoch 25/100\n",
            "27/27 [==============================] - 0s 3ms/step - loss: 3584.8994 - mae: 3584.8994 - mse: 53202844.0000 - val_loss: 3765.0586 - val_mae: 3765.0586 - val_mse: 54263444.0000\n",
            "Epoch 26/100\n",
            "27/27 [==============================] - 0s 3ms/step - loss: 3571.7437 - mae: 3571.7437 - mse: 52333084.0000 - val_loss: 3765.5579 - val_mae: 3765.5579 - val_mse: 53922020.0000\n",
            "Epoch 27/100\n",
            "27/27 [==============================] - 0s 3ms/step - loss: 3564.6533 - mae: 3564.6533 - mse: 51159828.0000 - val_loss: 3770.7380 - val_mae: 3770.7380 - val_mse: 52977720.0000\n",
            "Epoch 28/100\n",
            "27/27 [==============================] - 0s 3ms/step - loss: 3558.1582 - mae: 3558.1582 - mse: 50016692.0000 - val_loss: 3772.9600 - val_mae: 3772.9597 - val_mse: 51836076.0000\n",
            "Epoch 29/100\n",
            "27/27 [==============================] - 0s 3ms/step - loss: 3547.9910 - mae: 3547.9910 - mse: 48971248.0000 - val_loss: 3770.2917 - val_mae: 3770.2917 - val_mse: 51198520.0000\n",
            "Epoch 30/100\n",
            "27/27 [==============================] - 0s 3ms/step - loss: 3540.6650 - mae: 3540.6650 - mse: 47980536.0000 - val_loss: 3780.9392 - val_mae: 3780.9392 - val_mse: 50512516.0000\n",
            "Epoch 31/100\n",
            "27/27 [==============================] - 0s 4ms/step - loss: 3533.1538 - mae: 3533.1538 - mse: 47145784.0000 - val_loss: 3775.8066 - val_mae: 3775.8069 - val_mse: 49922260.0000\n",
            "Epoch 32/100\n",
            "27/27 [==============================] - 0s 6ms/step - loss: 3524.1189 - mae: 3524.1189 - mse: 46438212.0000 - val_loss: 3779.8062 - val_mae: 3779.8062 - val_mse: 49483628.0000\n",
            "Epoch 33/100\n",
            "27/27 [==============================] - 0s 6ms/step - loss: 3514.7322 - mae: 3514.7322 - mse: 45632296.0000 - val_loss: 3779.4846 - val_mae: 3779.4846 - val_mse: 48902556.0000\n",
            "Epoch 34/100\n",
            "27/27 [==============================] - 0s 5ms/step - loss: 3508.1582 - mae: 3508.1582 - mse: 44906248.0000 - val_loss: 3781.3005 - val_mae: 3781.3005 - val_mse: 48262020.0000\n",
            "Epoch 35/100\n",
            "27/27 [==============================] - 0s 5ms/step - loss: 3500.4497 - mae: 3500.4497 - mse: 44029128.0000 - val_loss: 3786.3918 - val_mae: 3786.3918 - val_mse: 47858340.0000\n",
            "Epoch 36/100\n",
            "27/27 [==============================] - 0s 6ms/step - loss: 3488.4346 - mae: 3488.4346 - mse: 43304256.0000 - val_loss: 3786.6121 - val_mae: 3786.6121 - val_mse: 47312644.0000\n",
            "Epoch 37/100\n",
            "27/27 [==============================] - 0s 5ms/step - loss: 3479.8826 - mae: 3479.8826 - mse: 42593068.0000 - val_loss: 3791.9075 - val_mae: 3791.9075 - val_mse: 46968140.0000\n",
            "Epoch 38/100\n",
            "27/27 [==============================] - 0s 5ms/step - loss: 3471.5146 - mae: 3471.5146 - mse: 42117340.0000 - val_loss: 3790.0801 - val_mae: 3790.0801 - val_mse: 46972736.0000\n",
            "Epoch 39/100\n",
            "27/27 [==============================] - 0s 4ms/step - loss: 3460.6299 - mae: 3460.6299 - mse: 41483092.0000 - val_loss: 3791.7568 - val_mae: 3791.7568 - val_mse: 46571040.0000\n",
            "Epoch 40/100\n",
            "27/27 [==============================] - 0s 6ms/step - loss: 3452.5442 - mae: 3452.5442 - mse: 41250544.0000 - val_loss: 3792.0837 - val_mae: 3792.0837 - val_mse: 46589912.0000\n",
            "Epoch 41/100\n",
            "27/27 [==============================] - 0s 5ms/step - loss: 3443.3135 - mae: 3443.3135 - mse: 40620076.0000 - val_loss: 3793.7769 - val_mae: 3793.7769 - val_mse: 46233424.0000\n",
            "Epoch 42/100\n",
            "27/27 [==============================] - 0s 4ms/step - loss: 3437.3545 - mae: 3437.3545 - mse: 40186788.0000 - val_loss: 3797.6768 - val_mae: 3797.6768 - val_mse: 46393792.0000\n",
            "Epoch 43/100\n",
            "27/27 [==============================] - 0s 7ms/step - loss: 3424.5635 - mae: 3424.5635 - mse: 40130868.0000 - val_loss: 3799.8745 - val_mae: 3799.8745 - val_mse: 46535616.0000\n",
            "Epoch 44/100\n",
            "27/27 [==============================] - 0s 6ms/step - loss: 3415.8079 - mae: 3415.8079 - mse: 39893304.0000 - val_loss: 3799.4609 - val_mae: 3799.4609 - val_mse: 46644052.0000\n",
            "Epoch 45/100\n",
            "27/27 [==============================] - 0s 5ms/step - loss: 3401.9746 - mae: 3401.9746 - mse: 39633648.0000 - val_loss: 3808.6650 - val_mae: 3808.6650 - val_mse: 46901580.0000\n",
            "Epoch 46/100\n",
            "27/27 [==============================] - 0s 4ms/step - loss: 3393.5544 - mae: 3393.5544 - mse: 39657180.0000 - val_loss: 3801.2236 - val_mae: 3801.2236 - val_mse: 47072712.0000\n",
            "Epoch 47/100\n",
            "27/27 [==============================] - 0s 4ms/step - loss: 3389.4270 - mae: 3389.4270 - mse: 39533344.0000 - val_loss: 3812.7078 - val_mae: 3812.7078 - val_mse: 47777420.0000\n",
            "Epoch 48/100\n",
            "27/27 [==============================] - 0s 5ms/step - loss: 3373.9106 - mae: 3373.9106 - mse: 39725540.0000 - val_loss: 3804.9578 - val_mae: 3804.9578 - val_mse: 47955056.0000\n",
            "Epoch 49/100\n",
            "27/27 [==============================] - 0s 7ms/step - loss: 3367.7688 - mae: 3367.7688 - mse: 39659408.0000 - val_loss: 3815.8333 - val_mae: 3815.8333 - val_mse: 48540120.0000\n",
            "Epoch 50/100\n",
            "27/27 [==============================] - 0s 4ms/step - loss: 3358.1895 - mae: 3358.1895 - mse: 39943116.0000 - val_loss: 3815.3174 - val_mae: 3815.3174 - val_mse: 49078688.0000\n",
            "Epoch 51/100\n",
            "27/27 [==============================] - 0s 8ms/step - loss: 3350.2395 - mae: 3350.2395 - mse: 40184732.0000 - val_loss: 3823.1577 - val_mae: 3823.1577 - val_mse: 49747608.0000\n",
            "Epoch 52/100\n",
            "27/27 [==============================] - 0s 4ms/step - loss: 3340.2886 - mae: 3340.2886 - mse: 40576000.0000 - val_loss: 3824.3120 - val_mae: 3824.3120 - val_mse: 50629188.0000\n",
            "Epoch 53/100\n",
            "27/27 [==============================] - 0s 5ms/step - loss: 3336.0303 - mae: 3336.0303 - mse: 41164800.0000 - val_loss: 3836.5957 - val_mae: 3836.5957 - val_mse: 51908640.0000\n",
            "Epoch 54/100\n",
            "27/27 [==============================] - 0s 4ms/step - loss: 3323.0830 - mae: 3323.0830 - mse: 41536372.0000 - val_loss: 3835.6873 - val_mae: 3835.6873 - val_mse: 52077112.0000\n",
            "Epoch 55/100\n",
            "27/27 [==============================] - 0s 5ms/step - loss: 3315.9941 - mae: 3315.9941 - mse: 42225892.0000 - val_loss: 3846.4973 - val_mae: 3846.4973 - val_mse: 53680008.0000\n",
            "Epoch 56/100\n",
            "27/27 [==============================] - 0s 4ms/step - loss: 3308.8279 - mae: 3308.8279 - mse: 42874020.0000 - val_loss: 3847.7681 - val_mae: 3847.7681 - val_mse: 54342052.0000\n",
            "Epoch 57/100\n",
            "27/27 [==============================] - 0s 5ms/step - loss: 3302.0481 - mae: 3302.0481 - mse: 43802212.0000 - val_loss: 3856.0586 - val_mae: 3856.0586 - val_mse: 55976108.0000\n",
            "Epoch 58/100\n",
            "27/27 [==============================] - 0s 5ms/step - loss: 3288.7827 - mae: 3288.7827 - mse: 44415484.0000 - val_loss: 3862.5278 - val_mae: 3862.5278 - val_mse: 56834308.0000\n",
            "Epoch 59/100\n",
            "27/27 [==============================] - 0s 5ms/step - loss: 3285.9177 - mae: 3285.9177 - mse: 45380096.0000 - val_loss: 3873.0942 - val_mae: 3873.0942 - val_mse: 58577276.0000\n",
            "Epoch 60/100\n",
            "27/27 [==============================] - 0s 4ms/step - loss: 3279.5537 - mae: 3279.5537 - mse: 46446664.0000 - val_loss: 3893.4675 - val_mae: 3893.4675 - val_mse: 59522432.0000\n",
            "Epoch 61/100\n",
            "27/27 [==============================] - 0s 5ms/step - loss: 3280.2876 - mae: 3280.2876 - mse: 46960520.0000 - val_loss: 3884.3518 - val_mae: 3884.3518 - val_mse: 59388660.0000\n",
            "Epoch 62/100\n",
            "27/27 [==============================] - 0s 4ms/step - loss: 3280.0869 - mae: 3280.0869 - mse: 46419388.0000 - val_loss: 3888.8408 - val_mae: 3888.8408 - val_mse: 59440928.0000\n",
            "Epoch 63/100\n",
            "27/27 [==============================] - 0s 5ms/step - loss: 3277.1033 - mae: 3277.1033 - mse: 46809276.0000 - val_loss: 3885.2781 - val_mae: 3885.2781 - val_mse: 59594240.0000\n",
            "Epoch 64/100\n",
            "27/27 [==============================] - 0s 6ms/step - loss: 3278.7727 - mae: 3278.7727 - mse: 46579988.0000 - val_loss: 3882.8452 - val_mae: 3882.8452 - val_mse: 59336988.0000\n",
            "Epoch 65/100\n",
            "27/27 [==============================] - 0s 6ms/step - loss: 3282.9468 - mae: 3282.9468 - mse: 46680604.0000 - val_loss: 3891.0703 - val_mae: 3891.0703 - val_mse: 59462312.0000\n",
            "Epoch 66/100\n",
            "27/27 [==============================] - 0s 7ms/step - loss: 3283.0129 - mae: 3283.0129 - mse: 47050684.0000 - val_loss: 3894.8828 - val_mae: 3894.8828 - val_mse: 60301712.0000\n",
            "Epoch 67/100\n",
            "27/27 [==============================] - 0s 6ms/step - loss: 3279.3674 - mae: 3279.3674 - mse: 46987396.0000 - val_loss: 3894.1006 - val_mae: 3894.1006 - val_mse: 59734772.0000\n",
            "Epoch 68/100\n",
            "27/27 [==============================] - 0s 5ms/step - loss: 3280.6165 - mae: 3280.6165 - mse: 47325836.0000 - val_loss: 3888.6309 - val_mae: 3888.6309 - val_mse: 59935788.0000\n",
            "Epoch 69/100\n",
            "27/27 [==============================] - 0s 5ms/step - loss: 3279.0576 - mae: 3279.0576 - mse: 46446972.0000 - val_loss: 3886.1372 - val_mae: 3886.1372 - val_mse: 59345364.0000\n",
            "Epoch 70/100\n",
            "27/27 [==============================] - 0s 5ms/step - loss: 3275.1572 - mae: 3275.1572 - mse: 46603076.0000 - val_loss: 3887.9802 - val_mae: 3887.9802 - val_mse: 59593880.0000\n",
            "Epoch 71/100\n",
            "27/27 [==============================] - 0s 7ms/step - loss: 3280.6025 - mae: 3280.6025 - mse: 46991388.0000 - val_loss: 3894.6196 - val_mae: 3894.6196 - val_mse: 60083100.0000\n",
            "Epoch 72/100\n",
            "27/27 [==============================] - 0s 9ms/step - loss: 3280.2427 - mae: 3280.2427 - mse: 46585360.0000 - val_loss: 3884.7852 - val_mae: 3884.7852 - val_mse: 59175000.0000\n",
            "Epoch 73/100\n",
            "27/27 [==============================] - 0s 5ms/step - loss: 3277.3672 - mae: 3277.3672 - mse: 46510248.0000 - val_loss: 3888.9744 - val_mae: 3888.9744 - val_mse: 59685396.0000\n",
            "Epoch 74/100\n",
            "27/27 [==============================] - 0s 4ms/step - loss: 3277.9790 - mae: 3277.9790 - mse: 47107608.0000 - val_loss: 3895.6118 - val_mae: 3895.6118 - val_mse: 60100932.0000\n",
            "Epoch 75/100\n",
            "27/27 [==============================] - 0s 5ms/step - loss: 3277.8105 - mae: 3277.8105 - mse: 47020844.0000 - val_loss: 3892.8574 - val_mae: 3892.8574 - val_mse: 59567152.0000\n",
            "Epoch 76/100\n",
            "27/27 [==============================] - 0s 6ms/step - loss: 3276.0967 - mae: 3276.0967 - mse: 46724648.0000 - val_loss: 3889.5664 - val_mae: 3889.5664 - val_mse: 59741156.0000\n",
            "Epoch 77/100\n",
            "27/27 [==============================] - 0s 8ms/step - loss: 3277.1521 - mae: 3277.1521 - mse: 47159124.0000 - val_loss: 3900.7634 - val_mae: 3900.7634 - val_mse: 60171460.0000\n",
            "Epoch 78/100\n",
            "27/27 [==============================] - 0s 5ms/step - loss: 3277.3135 - mae: 3277.3135 - mse: 46694740.0000 - val_loss: 3884.5803 - val_mae: 3884.5803 - val_mse: 59354456.0000\n",
            "Epoch 79/100\n",
            "27/27 [==============================] - 0s 9ms/step - loss: 3278.0627 - mae: 3278.0627 - mse: 47059568.0000 - val_loss: 3898.2114 - val_mae: 3898.2114 - val_mse: 59990524.0000\n",
            "Epoch 80/100\n",
            "27/27 [==============================] - 0s 6ms/step - loss: 3280.4653 - mae: 3280.4653 - mse: 46877072.0000 - val_loss: 3881.7837 - val_mae: 3881.7837 - val_mse: 59307328.0000\n",
            "Epoch 81/100\n",
            "27/27 [==============================] - 0s 4ms/step - loss: 3274.1843 - mae: 3274.1843 - mse: 46576032.0000 - val_loss: 3882.2800 - val_mae: 3882.2800 - val_mse: 59529992.0000\n",
            "Epoch 82/100\n",
            "27/27 [==============================] - 0s 4ms/step - loss: 3278.3938 - mae: 3278.3938 - mse: 46577712.0000 - val_loss: 3890.6509 - val_mae: 3890.6509 - val_mse: 59557496.0000\n",
            "Epoch 83/100\n",
            "27/27 [==============================] - 0s 6ms/step - loss: 3279.0166 - mae: 3279.0166 - mse: 46780812.0000 - val_loss: 3889.0427 - val_mae: 3889.0427 - val_mse: 59672376.0000\n",
            "Epoch 84/100\n",
            "27/27 [==============================] - 0s 5ms/step - loss: 3276.2588 - mae: 3276.2588 - mse: 46781636.0000 - val_loss: 3889.4727 - val_mae: 3889.4727 - val_mse: 59744028.0000\n",
            "Epoch 85/100\n",
            "27/27 [==============================] - 0s 7ms/step - loss: 3279.8672 - mae: 3279.8672 - mse: 47030612.0000 - val_loss: 3890.5227 - val_mae: 3890.5227 - val_mse: 59819388.0000\n",
            "Epoch 86/100\n",
            "27/27 [==============================] - 0s 4ms/step - loss: 3277.8479 - mae: 3277.8479 - mse: 47035244.0000 - val_loss: 3890.4573 - val_mae: 3890.4573 - val_mse: 59972676.0000\n",
            "Epoch 87/100\n",
            "27/27 [==============================] - 0s 4ms/step - loss: 3275.2922 - mae: 3275.2922 - mse: 46744436.0000 - val_loss: 3887.5017 - val_mae: 3887.5017 - val_mse: 59326456.0000\n",
            "Epoch 88/100\n",
            "27/27 [==============================] - 0s 4ms/step - loss: 3276.1724 - mae: 3276.1724 - mse: 46740968.0000 - val_loss: 3886.8193 - val_mae: 3886.8193 - val_mse: 59578448.0000\n",
            "Epoch 89/100\n",
            "27/27 [==============================] - 0s 6ms/step - loss: 3276.4624 - mae: 3276.4624 - mse: 46700932.0000 - val_loss: 3884.2717 - val_mae: 3884.2717 - val_mse: 59518056.0000\n",
            "Epoch 90/100\n",
            "27/27 [==============================] - 0s 5ms/step - loss: 3276.8762 - mae: 3276.8762 - mse: 46700504.0000 - val_loss: 3890.6980 - val_mae: 3890.6980 - val_mse: 59656724.0000\n",
            "Epoch 91/100\n",
            "27/27 [==============================] - 0s 8ms/step - loss: 3283.1738 - mae: 3283.1738 - mse: 47247864.0000 - val_loss: 3898.1289 - val_mae: 3898.1289 - val_mse: 59791456.0000\n",
            "Epoch 92/100\n",
            "27/27 [==============================] - 0s 7ms/step - loss: 3276.4790 - mae: 3276.4790 - mse: 46875176.0000 - val_loss: 3887.3494 - val_mae: 3887.3494 - val_mse: 59507880.0000\n",
            "Epoch 93/100\n",
            "27/27 [==============================] - 0s 4ms/step - loss: 3281.2458 - mae: 3281.2458 - mse: 46485148.0000 - val_loss: 3888.3320 - val_mae: 3888.3320 - val_mse: 59552064.0000\n",
            "Epoch 94/100\n",
            "27/27 [==============================] - 0s 7ms/step - loss: 3282.9082 - mae: 3282.9082 - mse: 46271944.0000 - val_loss: 3875.0896 - val_mae: 3875.0896 - val_mse: 59053632.0000\n",
            "Epoch 95/100\n",
            "27/27 [==============================] - 0s 4ms/step - loss: 3277.4941 - mae: 3277.4941 - mse: 46880272.0000 - val_loss: 3895.6743 - val_mae: 3895.6743 - val_mse: 60043872.0000\n",
            "Epoch 96/100\n",
            "27/27 [==============================] - 0s 7ms/step - loss: 3279.5044 - mae: 3279.5044 - mse: 47132576.0000 - val_loss: 3890.8760 - val_mae: 3890.8760 - val_mse: 59836460.0000\n",
            "Epoch 97/100\n",
            "27/27 [==============================] - 0s 5ms/step - loss: 3276.0874 - mae: 3276.0874 - mse: 46815556.0000 - val_loss: 3884.1289 - val_mae: 3884.1289 - val_mse: 59378328.0000\n",
            "Epoch 98/100\n",
            "27/27 [==============================] - 0s 5ms/step - loss: 3275.2725 - mae: 3275.2725 - mse: 46671700.0000 - val_loss: 3889.0935 - val_mae: 3889.0935 - val_mse: 59590260.0000\n",
            "Epoch 99/100\n",
            "27/27 [==============================] - 0s 4ms/step - loss: 3277.5198 - mae: 3277.5198 - mse: 46757180.0000 - val_loss: 3883.7559 - val_mae: 3883.7559 - val_mse: 59669840.0000\n",
            "Epoch 100/100\n",
            "27/27 [==============================] - 0s 4ms/step - loss: 3275.1521 - mae: 3275.1521 - mse: 46867456.0000 - val_loss: 3893.6082 - val_mae: 3893.6082 - val_mse: 59605212.0000\n"
          ]
        },
        {
          "output_type": "execute_result",
          "data": {
            "text/plain": [
              "<keras.callbacks.History at 0x7f49f53e9370>"
            ]
          },
          "metadata": {},
          "execution_count": 17
        }
      ]
    },
    {
      "cell_type": "code",
      "execution_count": null,
      "metadata": {
        "id": "Xe7RXH3N3CWU",
        "colab": {
          "base_uri": "https://localhost:8080/",
          "height": 352
        },
        "outputId": "5c8270d4-67c3-47e0-9cf9-5a61e4db3b00"
      },
      "outputs": [
        {
          "output_type": "stream",
          "name": "stdout",
          "text": [
            "9/9 - 0s - loss: 3481.9202 - mae: 3481.9202 - mse: 47592088.0000 - 49ms/epoch - 5ms/step\n",
            "Testing set Mean Abs Error: 3481.92 expenses\n",
            "The predictions are correct\n",
            "9/9 [==============================] - 0s 3ms/step\n"
          ]
        },
        {
          "output_type": "display_data",
          "data": {
            "text/plain": [
              "<Figure size 432x288 with 1 Axes>"
            ],
            "image/png": "[encoded data removed]"
          },
          "metadata": {
            "needs_background": "light"
          }
        }
      ],
      "source": [
        "# Test model by checking how well the model generalizes using the test set.\n",
        "loss, mae, mse = model.evaluate(test_dataset, test_labels, verbose=2)\n",
        "\n",
        "print(\"Testing set Mean Abs Error: {:5.2f} expenses\".format(mae))\n",
        "\n",
        "if mae < 3500:\n",
        "  print(\"The predictions are correct\")\n",
        "else:\n",
        "  print(\"The Mean Abs Error must be less than 3500. Keep trying.\")\n",
        "\n",
        "# Plot predictions.\n",
        "test_predictions = model.predict(test_dataset).flatten()\n",
        "\n",
        "a = plt.axes(aspect='equal')\n",
        "plt.scatter(test_labels, test_predictions)\n",
        "plt.xlabel('True values (expenses)')\n",
        "plt.ylabel('Predictions (expenses)')\n",
        "lims = [0, 50000]\n",
        "plt.xlim(lims)\n",
        "plt.ylim(lims)\n",
        "_ = plt.plot(lims,lims)\n"
      ]
    }
  ],
  "metadata": {
    "colab": {
      "provenance": [],
      "include_colab_link": true
    },
    "kernelspec": {
      "display_name": "Python 3",
      "name": "python3"
    },
    "gpuClass": "standard"
  },
  "nbformat": 4,
  "nbformat_minor": 0
}